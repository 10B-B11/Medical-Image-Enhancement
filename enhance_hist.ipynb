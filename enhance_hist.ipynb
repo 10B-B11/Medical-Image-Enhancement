{
 "cells": [
  {
   "cell_type": "code",
   "execution_count": 26,
   "metadata": {
    "collapsed": true
   },
   "outputs": [],
   "source": [
    "import matplotlib.pyplot as plt\n",
    "import pydicom\n",
    "import os\n",
    "import cv2\n",
    "from PIL import Image\n",
    "import numpy as np\n",
    "\n",
    "np.set_printoptions(threshold=np.inf)"
   ]
  },
  {
   "cell_type": "code",
   "execution_count": 27,
   "metadata": {
    "collapsed": true
   },
   "outputs": [],
   "source": [
    "path = \"./XRAY TEST/xray\"\n",
    "files = os.listdir(path)"
   ]
  },
  {
   "cell_type": "code",
   "execution_count": 28,
   "metadata": {
    "collapsed": true
   },
   "outputs": [],
   "source": [
    "ds = []\n",
    "#pixl_array包含了真实数据\n",
    "\n",
    "for file in files:\n",
    "    if not os.path.isdir(file):\n",
    "        f = path+\"/\"+file\n",
    "        data = pydicom.read_file(f)\n",
    "        ds.append(data.pixel_array)"
   ]
  },
  {
   "cell_type": "code",
   "execution_count": 29,
   "metadata": {},
   "outputs": [
    {
     "data": {
      "image/png": "[encoded data removed]",
      "text/plain": [
       "<Figure size 432x288 with 1 Axes>"
      ]
     },
     "metadata": {},
     "output_type": "display_data"
    }
   ],
   "source": [
    "origin = ds[6]\n",
    "\n",
    "#crop = origin[0:250, 150:800]\n",
    "\n",
    "crop_1 = np.zeros((250,650), dtype = origin.dtype )\n",
    "\n",
    "for i in range(0, 250):\n",
    "    for j in range(150, 800):\n",
    "        k = i\n",
    "        t = j-150\n",
    "        if origin[i][j] < 700:\n",
    "            crop_1[k][t] = 4094 #对黑色边角的处理，直接设置最亮\n",
    "        else:\n",
    "            crop_1[k][t] = origin[i][j]\n",
    "            \n",
    "plt.imshow(crop_1,cmap=\"gray\")\n",
    "plt.axis(\"off\")\n",
    "plt.show()"
   ]
  },
  {
   "cell_type": "code",
   "execution_count": 32,
   "metadata": {},
   "outputs": [
    {
     "data": {
      "image/png": "[encoded data removed]",
      "text/plain": [
       "<Figure size 432x288 with 1 Axes>"
      ]
     },
     "metadata": {},
     "output_type": "display_data"
    }
   ],
   "source": [
    "## 基于直方图均衡化\n",
    "#算法的本质：重新分布图像的像素值\n",
    "#增加了许多局部的对比度，而整体的对比度没有进行太大改变\n",
    "\n",
    "# opencv 实现\n",
    "tmp = np.zeros((250,650), dtype = origin.dtype )\n",
    "\n",
    "cv2.normalize(crop_1,tmp, 0, 255, cv2.NORM_MINMAX)\n",
    "tmp= cv2.convertScaleAbs(tmp)\n",
    "\n",
    "equ = cv2.equalizeHist(tmp)\n",
    "\n",
    "plt.imshow(equ,cmap=\"gray\")\n",
    "plt.axis(\"off\")\n",
    "plt.show()\n"
   ]
  },
  {
   "cell_type": "code",
   "execution_count": 31,
   "metadata": {},
   "outputs": [
    {
     "data": {
      "image/png": "[encoded data removed]",
      "text/plain": [
       "<Figure size 432x288 with 1 Axes>"
      ]
     },
     "metadata": {},
     "output_type": "display_data"
    }
   ],
   "source": [
    "# numpy 实现\n",
    "cv2.normalize(crop_1,crop_1, 0, 255, cv2.NORM_MINMAX)\n",
    "\n",
    "lut = np.zeros(256, dtype = crop_1.dtype )#创建空的查找表  \n",
    "  \n",
    "hist,bins = np.histogram(crop_1.flatten(),256,[0,256])\n",
    "\n",
    " #计算累积直方图 \n",
    "cdf = hist.cumsum()\n",
    "cdf_m = np.ma.masked_equal(cdf,0) #除去直方图中的0值  \n",
    "\n",
    "cdf_m = (cdf_m - cdf_m.min())*255/(cdf_m.max()-cdf_m.min())\n",
    "#等同于lut[i] = int(255.0 *p[i])公式  \n",
    "cdf = np.ma.filled(cdf_m,0).astype('uint8') \n",
    "#将掩模处理掉的元素补为0  \n",
    "  \n",
    "#计算  \n",
    "res = cdf[crop_1] #其实本质上也只是这一行公式\n",
    "\n",
    "plt.imshow(res, cmap=\"gray\")\n",
    "plt.axis(\"off\")\n",
    "plt.show()"
   ]
  },
  {
   "cell_type": "code",
   "execution_count": null,
   "metadata": {
    "collapsed": true
   },
   "outputs": [],
   "source": []
  },
  {
   "cell_type": "code",
   "execution_count": null,
   "metadata": {
    "collapsed": true
   },
   "outputs": [],
   "source": []
  },
  {
   "cell_type": "code",
   "execution_count": null,
   "metadata": {
    "collapsed": true
   },
   "outputs": [],
   "source": []
  }
 ],
 "metadata": {
  "kernelspec": {
   "display_name": "Python 3",
   "language": "python",
   "name": "python3"
  },
  "language_info": {
   "codemirror_mode": {
    "name": "ipython",
    "version": 3
   },
   "file_extension": ".py",
   "mimetype": "text/x-python",
   "name": "python",
   "nbconvert_exporter": "python",
   "pygments_lexer": "ipython3",
   "version": "3.6.6"
  }
 },
 "nbformat": 4,
 "nbformat_minor": 2
}
